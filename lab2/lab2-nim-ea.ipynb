{
 "cells": [
  {
   "cell_type": "code",
   "execution_count": 30,
   "metadata": {},
   "outputs": [],
   "source": [
    "from functools import reduce\n",
    "from collections import namedtuple\n",
    "from dataclasses import dataclass\n",
    "from typing import Callable\n",
    "from copy import deepcopy\n",
    "from tqdm import tqdm\n",
    "\n",
    "from pprint import pprint\n",
    "\n",
    "import numpy as np\n",
    "import random\n",
    "import sys"
   ]
  },
  {
   "cell_type": "markdown",
   "metadata": {},
   "source": [
    "## Evolutionary parameters"
   ]
  },
  {
   "cell_type": "code",
   "execution_count": 31,
   "metadata": {},
   "outputs": [],
   "source": [
    "POPULATION_SIZE = 30\n",
    "TOURNAMENT_SIZE = 10\n",
    "MUTATION_PROBABILITY = .5\n",
    "N_STRATEGIES = 3\n",
    "TOT_N_OFFSPRINGS = 1e3\n",
    "λ = 30\n",
    "τ = 1/np.sqrt(N_STRATEGIES)\n",
    "\n",
    "TRAINING_GAMES = 100\n",
    "ROWS = 4"
   ]
  },
  {
   "cell_type": "markdown",
   "metadata": {},
   "source": [
    "## The *Nim* and *Nimply* classes"
   ]
  },
  {
   "cell_type": "code",
   "execution_count": 32,
   "metadata": {},
   "outputs": [],
   "source": [
    "Nimply = namedtuple(\"Nimply\", \"row, num_objects\")\n",
    "\n",
    "class Nim:\n",
    "    def __init__(self, num_rows: int, k: int = sys.maxsize) -> None:\n",
    "        self._rows = [i * 2 + 1 for i in range(num_rows)]\n",
    "        self._k = k\n",
    "\n",
    "    def __bool__(self):\n",
    "        return sum(self._rows) > 0\n",
    "\n",
    "    def __str__(self):\n",
    "        return \"<\" + \" \".join(str(_) for _ in self._rows) + \">\"\n",
    "\n",
    "    @property\n",
    "    def rows(self) -> tuple:\n",
    "        return tuple(self._rows)\n",
    "\n",
    "    def nimming(self, ply: Nimply) -> None:\n",
    "        row, num_objects = ply\n",
    "        assert self._rows[row] >= num_objects\n",
    "        assert num_objects <= self._k\n",
    "        self._rows[row] -= num_objects"
   ]
  },
  {
   "cell_type": "markdown",
   "metadata": {},
   "source": [
    "## Functions for optimal strageies"
   ]
  },
  {
   "cell_type": "code",
   "execution_count": 33,
   "metadata": {},
   "outputs": [],
   "source": [
    "def nim_sum(state: Nim) -> int:\n",
    "    tmp = np.array([tuple(int(x) for x in f\"{c:032b}\") for c in state.rows])\n",
    "    xor = tmp.sum(axis=0) % 2\n",
    "    return int(\"\".join(str(_) for _ in xor), base=2)\n",
    "\n",
    "def advanced_nim_sum(state: Nim) -> int:\n",
    "    mex = [x % (state._k + 1) for x in state.rows]\n",
    "    tmp = np.array([tuple(int(x) for x in f\"{c:032b}\") for c in mex])\n",
    "    xor = tmp.sum(axis=0) % 2\n",
    "    return int(\"\".join(str(_) for _ in xor), base=2)\n",
    "\n",
    "def analize(raw: Nim) -> dict:\n",
    "    cooked = dict()\n",
    "    cooked[\"possible_moves\"] = dict()\n",
    "    for ply in (Nimply(r, o) for r, c in enumerate(raw.rows) for o in range(1, c + 1)):\n",
    "        if raw._k < ply.num_objects:\n",
    "            continue\n",
    "        tmp = deepcopy(raw)\n",
    "        tmp.nimming(ply)\n",
    "        cooked[\"possible_moves\"][ply] = advanced_nim_sum(tmp)\n",
    "        \n",
    "    return cooked"
   ]
  },
  {
   "cell_type": "markdown",
   "metadata": {},
   "source": [
    "## Strategies"
   ]
  },
  {
   "cell_type": "code",
   "execution_count": 34,
   "metadata": {},
   "outputs": [],
   "source": [
    "def pure_random(state: Nim) -> Nimply:\n",
    "    \"\"\"A completely random move\"\"\"\n",
    "    row = random.choice([r for r, c in enumerate(state.rows) if c > 0])\n",
    "    num_objects = random.randint(1, min(state._k, state._rows[row]))\n",
    "    return Nimply(row, num_objects)\n",
    "\n",
    "def gabriele(state: Nim) -> Nimply:\n",
    "    \"\"\"Pick always the maximum possible number of the lowest row\"\"\"\n",
    "    possible_moves = [(r, o) for r, c in enumerate(state.rows) for o in range(1, c + 1)]\n",
    "    return Nimply(*max(possible_moves, key=lambda m: (-m[0], m[1])))\n",
    "\n",
    "def optimal(state: Nim) -> Nimply:\n",
    "    analysis = analize(state)\n",
    "    spicy_moves = [ply for ply, ns in analysis[\"possible_moves\"].items() if ns == 0]\n",
    "    if not spicy_moves:\n",
    "        ply = pure_random(state)\n",
    "    else:\n",
    "        ply = random.choice(spicy_moves)\n",
    "        \n",
    "    return ply\n",
    "\n",
    "def agent(genotype) -> Callable:\n",
    "    def agent_style(state: Nim) -> Nimply:\n",
    "        probabilities = genotype[:N_STRATEGIES]\n",
    "        probabilities = np.abs(probabilities)\n",
    "        probabilities /= sum(probabilities)\n",
    "        cumulative_p = 0\n",
    "        chosen_strategy = None\n",
    "        rand_strategy = random.random()\n",
    "        for i, p in enumerate(probabilities):\n",
    "            if rand_strategy >= cumulative_p and rand_strategy <= cumulative_p + p:\n",
    "                chosen_strategy = i\n",
    "            cumulative_p += p\n",
    "        \n",
    "        ply = strategy_mapping[chosen_strategy](state)\n",
    "        return ply\n",
    "    return agent_style\n",
    "\n",
    "strategy_mapping = {\n",
    "    0: pure_random,\n",
    "    1: gabriele,\n",
    "    2: optimal,\n",
    "}"
   ]
  },
  {
   "cell_type": "markdown",
   "metadata": {},
   "source": [
    "## Evolutionary methods"
   ]
  },
  {
   "cell_type": "code",
   "execution_count": 35,
   "metadata": {},
   "outputs": [],
   "source": [
    "@dataclass\n",
    "class Individual:\n",
    "    genotype: list[float]\n",
    "    fitness: float\n",
    "\n",
    "def select_parent(pop) -> Individual:\n",
    "    pool = [random.choice(pop) for _ in range(TOURNAMENT_SIZE)]\n",
    "    champion = max(pool, key=lambda i: i.fitness)\n",
    "    return champion\n",
    "\n",
    "def mutate(ind: Individual) -> Individual:\n",
    "    # Copy the individual\n",
    "    offspring = deepcopy(ind)\n",
    "    \n",
    "    # Mutate σ of the correspoding strategies\n",
    "    offspring.genotype[N_STRATEGIES:] = offspring.genotype[N_STRATEGIES:]*np.exp(τ*np.random.normal(loc=0, scale=1))\n",
    "\n",
    "    # Mutate the strategies \"probabilities\" with corresponding σ\n",
    "    offspring.genotype[:N_STRATEGIES] = np.random.normal(loc=0, scale=offspring.genotype[N_STRATEGIES:]) + ind.genotype[:N_STRATEGIES]\n",
    "    offspring.fitness = None\n",
    "    return offspring\n",
    "\n",
    "def one_cut_xover(ind1: Individual, ind2: Individual) -> Individual:\n",
    "    cut_point = random.randint(0, N_STRATEGIES-1)\n",
    "    offspring = Individual(fitness=None,\n",
    "                        #   genotype=np.concatenate((ind1.genotype[:cut_point], ind2.genotype[cut_point:N_STRATEGIES], ind1.genotype[N_STRATEGIES:]), axis=None))\n",
    "                            genotype=np.concatenate((ind1.genotype[:cut_point], ind2.genotype[cut_point:]), axis=None))\n",
    "    assert len(offspring.genotype) == N_STRATEGIES*2\n",
    "    return offspring\n",
    "\n",
    "def fitness(genotype) -> float:\n",
    "    # Make the individual play\n",
    "    wins = 0\n",
    "    # for game in tqdm(range(TRAINING_GAMES), desc=f\"calculating fitness, playing {TRAINING_GAMES} games\"):\n",
    "    for game in range(TRAINING_GAMES):\n",
    "        nim = Nim(ROWS)\n",
    "        if game % 2:\n",
    "            player = 0\n",
    "        else:\n",
    "            player = 1\n",
    "            \n",
    "        strategy = (agent(genotype), strategy_mapping[game % N_STRATEGIES])\n",
    "\n",
    "        while nim:\n",
    "            ply = strategy[player](nim)\n",
    "            nim.nimming(ply)\n",
    "            player = 1 - player\n",
    "            \n",
    "        if player == 1:\n",
    "            wins += 1\n",
    "        \n",
    "    return wins/TRAINING_GAMES\n"
   ]
  },
  {
   "cell_type": "markdown",
   "metadata": {},
   "source": [
    "## Generating strating population"
   ]
  },
  {
   "cell_type": "code",
   "execution_count": 36,
   "metadata": {},
   "outputs": [],
   "source": [
    "population = [\n",
    "    Individual(\n",
    "        genotype=np.concatenate(([random.random() for _ in range(N_STRATEGIES)], np.ones(N_STRATEGIES)), axis=None),\n",
    "        fitness=None,\n",
    "    )\n",
    "    for _ in range(POPULATION_SIZE)\n",
    "]\n",
    "\n",
    "for i in population:\n",
    "    i.fitness = fitness(i.genotype)\n",
    "\n",
    "# print(f\"best individuals:{sorted(population, key=lambda i: i.fitness, reverse=True)[:5]}\")"
   ]
  },
  {
   "cell_type": "markdown",
   "metadata": {},
   "source": [
    "## Evolutionary algorithm"
   ]
  },
  {
   "cell_type": "code",
   "execution_count": 37,
   "metadata": {},
   "outputs": [
    {
     "name": "stderr",
     "output_type": "stream",
     "text": [
      "Producing 33.0 generations:   3%|▎         | 1/33 [00:04<02:19,  4.35s/it]"
     ]
    },
    {
     "name": "stdout",
     "output_type": "stream",
     "text": [
      "best individual:[0.00487675 0.1968242  0.72969818 1.         1.         1.        ], fitness=0.76\n"
     ]
    },
    {
     "name": "stderr",
     "output_type": "stream",
     "text": [
      "Producing 33.0 generations:   6%|▌         | 2/33 [00:09<02:22,  4.60s/it]"
     ]
    },
    {
     "name": "stdout",
     "output_type": "stream",
     "text": [
      "best individual:[0.00487675 0.1968242  0.72969818 1.         1.         1.        ], fitness=0.76\n"
     ]
    },
    {
     "name": "stderr",
     "output_type": "stream",
     "text": [
      "Producing 33.0 generations:   9%|▉         | 3/33 [00:14<02:26,  4.88s/it]"
     ]
    },
    {
     "name": "stdout",
     "output_type": "stream",
     "text": [
      "best individual:[0.00487675 0.1968242  0.72969818 1.         1.         1.        ], fitness=0.76\n"
     ]
    },
    {
     "name": "stderr",
     "output_type": "stream",
     "text": [
      "Producing 33.0 generations:  12%|█▏        | 4/33 [00:19<02:23,  4.95s/it]"
     ]
    },
    {
     "name": "stdout",
     "output_type": "stream",
     "text": [
      "best individual:[0.00487675 0.1968242  2.37988695 1.03272284 1.03272284 1.03272284], fitness=0.8\n"
     ]
    },
    {
     "name": "stderr",
     "output_type": "stream",
     "text": [
      "Producing 33.0 generations:  15%|█▌        | 5/33 [00:24<02:24,  5.16s/it]"
     ]
    },
    {
     "name": "stdout",
     "output_type": "stream",
     "text": [
      "best individual:[0.00487675 0.1968242  2.37988695 1.03272284 1.03272284 1.03272284], fitness=0.8\n"
     ]
    },
    {
     "name": "stderr",
     "output_type": "stream",
     "text": [
      "Producing 33.0 generations:  18%|█▊        | 6/33 [00:30<02:26,  5.43s/it]"
     ]
    },
    {
     "name": "stdout",
     "output_type": "stream",
     "text": [
      "best individual:[0.00487675 0.1968242  2.37988695 1.03272284 1.03272284 1.03272284], fitness=0.8\n"
     ]
    },
    {
     "name": "stderr",
     "output_type": "stream",
     "text": [
      "Producing 33.0 generations:  21%|██        | 7/33 [00:36<02:26,  5.64s/it]"
     ]
    },
    {
     "name": "stdout",
     "output_type": "stream",
     "text": [
      "best individual:[0.00487675 0.1968242  2.37988695 1.03272284 1.03272284 1.03272284], fitness=0.81\n"
     ]
    },
    {
     "name": "stderr",
     "output_type": "stream",
     "text": [
      "Producing 33.0 generations:  24%|██▍       | 8/33 [00:42<02:23,  5.75s/it]"
     ]
    },
    {
     "name": "stdout",
     "output_type": "stream",
     "text": [
      "best individual:[0.00487675 0.1968242  2.37988695 1.03272284 1.03272284 1.03272284], fitness=0.82\n"
     ]
    },
    {
     "name": "stderr",
     "output_type": "stream",
     "text": [
      "Producing 33.0 generations:  27%|██▋       | 9/33 [00:48<02:17,  5.74s/it]"
     ]
    },
    {
     "name": "stdout",
     "output_type": "stream",
     "text": [
      "best individual:[0.00487675 0.1968242  2.37988695 1.03272284 1.03272284 1.03272284], fitness=0.82\n"
     ]
    },
    {
     "name": "stderr",
     "output_type": "stream",
     "text": [
      "Producing 33.0 generations:  30%|███       | 10/33 [00:54<02:12,  5.77s/it]"
     ]
    },
    {
     "name": "stdout",
     "output_type": "stream",
     "text": [
      "best individual:[0.00487675 0.1968242  2.37988695 1.03272284 1.03272284 1.03272284], fitness=0.82\n"
     ]
    },
    {
     "name": "stderr",
     "output_type": "stream",
     "text": [
      "Producing 33.0 generations:  33%|███▎      | 11/33 [01:00<02:09,  5.90s/it]"
     ]
    },
    {
     "name": "stdout",
     "output_type": "stream",
     "text": [
      "best individual:[0.00487675 0.1968242  2.37988695 1.03272284 1.03272284 1.03272284], fitness=0.82\n"
     ]
    },
    {
     "name": "stderr",
     "output_type": "stream",
     "text": [
      "Producing 33.0 generations:  36%|███▋      | 12/33 [01:06<02:04,  5.94s/it]"
     ]
    },
    {
     "name": "stdout",
     "output_type": "stream",
     "text": [
      "best individual:[0.00487675 0.1968242  2.37988695 1.03272284 1.03272284 1.03272284], fitness=0.82\n"
     ]
    },
    {
     "name": "stderr",
     "output_type": "stream",
     "text": [
      "Producing 33.0 generations:  39%|███▉      | 13/33 [01:12<01:57,  5.88s/it]"
     ]
    },
    {
     "name": "stdout",
     "output_type": "stream",
     "text": [
      "best individual:[0.00487675 0.1968242  2.37988695 1.03272284 1.03272284 1.03272284], fitness=0.82\n"
     ]
    },
    {
     "name": "stderr",
     "output_type": "stream",
     "text": [
      "Producing 33.0 generations:  39%|███▉      | 13/33 [01:15<01:56,  5.83s/it]\n"
     ]
    },
    {
     "ename": "KeyboardInterrupt",
     "evalue": "",
     "output_type": "error",
     "traceback": [
      "\u001b[1;31m---------------------------------------------------------------------------\u001b[0m",
      "\u001b[1;31mKeyboardInterrupt\u001b[0m                         Traceback (most recent call last)",
      "\u001b[1;32mc:\\Users\\grfil\\OneDrive\\Documenti\\PoliTo\\Computational Intelligence\\CI-2023\\lab2\\lab2-nim-ea.ipynb Cell 15\u001b[0m line \u001b[0;36m1\n\u001b[0;32m     <a href='vscode-notebook-cell:/c%3A/Users/grfil/OneDrive/Documenti/PoliTo/Computational%20Intelligence/CI-2023/lab2/lab2-nim-ea.ipynb#X20sZmlsZQ%3D%3D?line=13'>14</a>\u001b[0m     offspring\u001b[39m.\u001b[39mappend(o)\n\u001b[0;32m     <a href='vscode-notebook-cell:/c%3A/Users/grfil/OneDrive/Documenti/PoliTo/Computational%20Intelligence/CI-2023/lab2/lab2-nim-ea.ipynb#X20sZmlsZQ%3D%3D?line=15'>16</a>\u001b[0m \u001b[39mfor\u001b[39;00m i \u001b[39min\u001b[39;00m offspring:\n\u001b[1;32m---> <a href='vscode-notebook-cell:/c%3A/Users/grfil/OneDrive/Documenti/PoliTo/Computational%20Intelligence/CI-2023/lab2/lab2-nim-ea.ipynb#X20sZmlsZQ%3D%3D?line=16'>17</a>\u001b[0m     i\u001b[39m.\u001b[39mfitness \u001b[39m=\u001b[39m fitness(i\u001b[39m.\u001b[39;49mgenotype)\n\u001b[0;32m     <a href='vscode-notebook-cell:/c%3A/Users/grfil/OneDrive/Documenti/PoliTo/Computational%20Intelligence/CI-2023/lab2/lab2-nim-ea.ipynb#X20sZmlsZQ%3D%3D?line=18'>19</a>\u001b[0m \u001b[39m# Selection of survivals    \u001b[39;00m\n\u001b[0;32m     <a href='vscode-notebook-cell:/c%3A/Users/grfil/OneDrive/Documenti/PoliTo/Computational%20Intelligence/CI-2023/lab2/lab2-nim-ea.ipynb#X20sZmlsZQ%3D%3D?line=19'>20</a>\u001b[0m population\u001b[39m.\u001b[39mextend(offspring)\n",
      "\u001b[1;32mc:\\Users\\grfil\\OneDrive\\Documenti\\PoliTo\\Computational Intelligence\\CI-2023\\lab2\\lab2-nim-ea.ipynb Cell 15\u001b[0m line \u001b[0;36m4\n\u001b[0;32m     <a href='vscode-notebook-cell:/c%3A/Users/grfil/OneDrive/Documenti/PoliTo/Computational%20Intelligence/CI-2023/lab2/lab2-nim-ea.ipynb#X20sZmlsZQ%3D%3D?line=41'>42</a>\u001b[0m strategy \u001b[39m=\u001b[39m (agent(genotype), strategy_mapping[game \u001b[39m%\u001b[39m N_STRATEGIES])\n\u001b[0;32m     <a href='vscode-notebook-cell:/c%3A/Users/grfil/OneDrive/Documenti/PoliTo/Computational%20Intelligence/CI-2023/lab2/lab2-nim-ea.ipynb#X20sZmlsZQ%3D%3D?line=43'>44</a>\u001b[0m \u001b[39mwhile\u001b[39;00m nim:\n\u001b[1;32m---> <a href='vscode-notebook-cell:/c%3A/Users/grfil/OneDrive/Documenti/PoliTo/Computational%20Intelligence/CI-2023/lab2/lab2-nim-ea.ipynb#X20sZmlsZQ%3D%3D?line=44'>45</a>\u001b[0m     ply \u001b[39m=\u001b[39m strategy[player](nim)\n\u001b[0;32m     <a href='vscode-notebook-cell:/c%3A/Users/grfil/OneDrive/Documenti/PoliTo/Computational%20Intelligence/CI-2023/lab2/lab2-nim-ea.ipynb#X20sZmlsZQ%3D%3D?line=45'>46</a>\u001b[0m     nim\u001b[39m.\u001b[39mnimming(ply)\n\u001b[0;32m     <a href='vscode-notebook-cell:/c%3A/Users/grfil/OneDrive/Documenti/PoliTo/Computational%20Intelligence/CI-2023/lab2/lab2-nim-ea.ipynb#X20sZmlsZQ%3D%3D?line=46'>47</a>\u001b[0m     player \u001b[39m=\u001b[39m \u001b[39m1\u001b[39m \u001b[39m-\u001b[39m player\n",
      "\u001b[1;32mc:\\Users\\grfil\\OneDrive\\Documenti\\PoliTo\\Computational Intelligence\\CI-2023\\lab2\\lab2-nim-ea.ipynb Cell 15\u001b[0m line \u001b[0;36m3\n\u001b[0;32m     <a href='vscode-notebook-cell:/c%3A/Users/grfil/OneDrive/Documenti/PoliTo/Computational%20Intelligence/CI-2023/lab2/lab2-nim-ea.ipynb#X20sZmlsZQ%3D%3D?line=31'>32</a>\u001b[0m         chosen_strategy \u001b[39m=\u001b[39m i\n\u001b[0;32m     <a href='vscode-notebook-cell:/c%3A/Users/grfil/OneDrive/Documenti/PoliTo/Computational%20Intelligence/CI-2023/lab2/lab2-nim-ea.ipynb#X20sZmlsZQ%3D%3D?line=32'>33</a>\u001b[0m     cumulative_p \u001b[39m+\u001b[39m\u001b[39m=\u001b[39m p\n\u001b[1;32m---> <a href='vscode-notebook-cell:/c%3A/Users/grfil/OneDrive/Documenti/PoliTo/Computational%20Intelligence/CI-2023/lab2/lab2-nim-ea.ipynb#X20sZmlsZQ%3D%3D?line=34'>35</a>\u001b[0m ply \u001b[39m=\u001b[39m strategy_mapping[chosen_strategy](state)\n\u001b[0;32m     <a href='vscode-notebook-cell:/c%3A/Users/grfil/OneDrive/Documenti/PoliTo/Computational%20Intelligence/CI-2023/lab2/lab2-nim-ea.ipynb#X20sZmlsZQ%3D%3D?line=35'>36</a>\u001b[0m \u001b[39mreturn\u001b[39;00m ply\n",
      "\u001b[1;32mc:\\Users\\grfil\\OneDrive\\Documenti\\PoliTo\\Computational Intelligence\\CI-2023\\lab2\\lab2-nim-ea.ipynb Cell 15\u001b[0m line \u001b[0;36m1\n\u001b[0;32m     <a href='vscode-notebook-cell:/c%3A/Users/grfil/OneDrive/Documenti/PoliTo/Computational%20Intelligence/CI-2023/lab2/lab2-nim-ea.ipynb#X20sZmlsZQ%3D%3D?line=11'>12</a>\u001b[0m \u001b[39mdef\u001b[39;00m \u001b[39moptimal\u001b[39m(state: Nim) \u001b[39m-\u001b[39m\u001b[39m>\u001b[39m Nimply:\n\u001b[1;32m---> <a href='vscode-notebook-cell:/c%3A/Users/grfil/OneDrive/Documenti/PoliTo/Computational%20Intelligence/CI-2023/lab2/lab2-nim-ea.ipynb#X20sZmlsZQ%3D%3D?line=12'>13</a>\u001b[0m     analysis \u001b[39m=\u001b[39m analize(state)\n\u001b[0;32m     <a href='vscode-notebook-cell:/c%3A/Users/grfil/OneDrive/Documenti/PoliTo/Computational%20Intelligence/CI-2023/lab2/lab2-nim-ea.ipynb#X20sZmlsZQ%3D%3D?line=13'>14</a>\u001b[0m     spicy_moves \u001b[39m=\u001b[39m [ply \u001b[39mfor\u001b[39;00m ply, ns \u001b[39min\u001b[39;00m analysis[\u001b[39m\"\u001b[39m\u001b[39mpossible_moves\u001b[39m\u001b[39m\"\u001b[39m]\u001b[39m.\u001b[39mitems() \u001b[39mif\u001b[39;00m ns \u001b[39m==\u001b[39m \u001b[39m0\u001b[39m]\n\u001b[0;32m     <a href='vscode-notebook-cell:/c%3A/Users/grfil/OneDrive/Documenti/PoliTo/Computational%20Intelligence/CI-2023/lab2/lab2-nim-ea.ipynb#X20sZmlsZQ%3D%3D?line=14'>15</a>\u001b[0m     \u001b[39mif\u001b[39;00m \u001b[39mnot\u001b[39;00m spicy_moves:\n",
      "\u001b[1;32mc:\\Users\\grfil\\OneDrive\\Documenti\\PoliTo\\Computational Intelligence\\CI-2023\\lab2\\lab2-nim-ea.ipynb Cell 15\u001b[0m line \u001b[0;36m1\n\u001b[0;32m     <a href='vscode-notebook-cell:/c%3A/Users/grfil/OneDrive/Documenti/PoliTo/Computational%20Intelligence/CI-2023/lab2/lab2-nim-ea.ipynb#X20sZmlsZQ%3D%3D?line=15'>16</a>\u001b[0m \u001b[39mif\u001b[39;00m raw\u001b[39m.\u001b[39m_k \u001b[39m<\u001b[39m ply\u001b[39m.\u001b[39mnum_objects:\n\u001b[0;32m     <a href='vscode-notebook-cell:/c%3A/Users/grfil/OneDrive/Documenti/PoliTo/Computational%20Intelligence/CI-2023/lab2/lab2-nim-ea.ipynb#X20sZmlsZQ%3D%3D?line=16'>17</a>\u001b[0m     \u001b[39mcontinue\u001b[39;00m\n\u001b[1;32m---> <a href='vscode-notebook-cell:/c%3A/Users/grfil/OneDrive/Documenti/PoliTo/Computational%20Intelligence/CI-2023/lab2/lab2-nim-ea.ipynb#X20sZmlsZQ%3D%3D?line=17'>18</a>\u001b[0m tmp \u001b[39m=\u001b[39m deepcopy(raw)\n\u001b[0;32m     <a href='vscode-notebook-cell:/c%3A/Users/grfil/OneDrive/Documenti/PoliTo/Computational%20Intelligence/CI-2023/lab2/lab2-nim-ea.ipynb#X20sZmlsZQ%3D%3D?line=18'>19</a>\u001b[0m tmp\u001b[39m.\u001b[39mnimming(ply)\n\u001b[0;32m     <a href='vscode-notebook-cell:/c%3A/Users/grfil/OneDrive/Documenti/PoliTo/Computational%20Intelligence/CI-2023/lab2/lab2-nim-ea.ipynb#X20sZmlsZQ%3D%3D?line=19'>20</a>\u001b[0m cooked[\u001b[39m\"\u001b[39m\u001b[39mpossible_moves\u001b[39m\u001b[39m\"\u001b[39m][ply] \u001b[39m=\u001b[39m advanced_nim_sum(tmp)\n",
      "File \u001b[1;32mc:\\Users\\grfil\\AppData\\Local\\Programs\\Python\\Python311\\Lib\\copy.py:172\u001b[0m, in \u001b[0;36mdeepcopy\u001b[1;34m(x, memo, _nil)\u001b[0m\n\u001b[0;32m    170\u001b[0m                 y \u001b[39m=\u001b[39m x\n\u001b[0;32m    171\u001b[0m             \u001b[39melse\u001b[39;00m:\n\u001b[1;32m--> 172\u001b[0m                 y \u001b[39m=\u001b[39m _reconstruct(x, memo, \u001b[39m*\u001b[39;49mrv)\n\u001b[0;32m    174\u001b[0m \u001b[39m# If is its own copy, don't memoize.\u001b[39;00m\n\u001b[0;32m    175\u001b[0m \u001b[39mif\u001b[39;00m y \u001b[39mis\u001b[39;00m \u001b[39mnot\u001b[39;00m x:\n",
      "File \u001b[1;32mc:\\Users\\grfil\\AppData\\Local\\Programs\\Python\\Python311\\Lib\\copy.py:271\u001b[0m, in \u001b[0;36m_reconstruct\u001b[1;34m(x, memo, func, args, state, listiter, dictiter, deepcopy)\u001b[0m\n\u001b[0;32m    269\u001b[0m \u001b[39mif\u001b[39;00m state \u001b[39mis\u001b[39;00m \u001b[39mnot\u001b[39;00m \u001b[39mNone\u001b[39;00m:\n\u001b[0;32m    270\u001b[0m     \u001b[39mif\u001b[39;00m deep:\n\u001b[1;32m--> 271\u001b[0m         state \u001b[39m=\u001b[39m deepcopy(state, memo)\n\u001b[0;32m    272\u001b[0m     \u001b[39mif\u001b[39;00m \u001b[39mhasattr\u001b[39m(y, \u001b[39m'\u001b[39m\u001b[39m__setstate__\u001b[39m\u001b[39m'\u001b[39m):\n\u001b[0;32m    273\u001b[0m         y\u001b[39m.\u001b[39m__setstate__(state)\n",
      "File \u001b[1;32mc:\\Users\\grfil\\AppData\\Local\\Programs\\Python\\Python311\\Lib\\copy.py:146\u001b[0m, in \u001b[0;36mdeepcopy\u001b[1;34m(x, memo, _nil)\u001b[0m\n\u001b[0;32m    144\u001b[0m copier \u001b[39m=\u001b[39m _deepcopy_dispatch\u001b[39m.\u001b[39mget(\u001b[39mcls\u001b[39m)\n\u001b[0;32m    145\u001b[0m \u001b[39mif\u001b[39;00m copier \u001b[39mis\u001b[39;00m \u001b[39mnot\u001b[39;00m \u001b[39mNone\u001b[39;00m:\n\u001b[1;32m--> 146\u001b[0m     y \u001b[39m=\u001b[39m copier(x, memo)\n\u001b[0;32m    147\u001b[0m \u001b[39melse\u001b[39;00m:\n\u001b[0;32m    148\u001b[0m     \u001b[39mif\u001b[39;00m \u001b[39missubclass\u001b[39m(\u001b[39mcls\u001b[39m, \u001b[39mtype\u001b[39m):\n",
      "File \u001b[1;32mc:\\Users\\grfil\\AppData\\Local\\Programs\\Python\\Python311\\Lib\\copy.py:231\u001b[0m, in \u001b[0;36m_deepcopy_dict\u001b[1;34m(x, memo, deepcopy)\u001b[0m\n\u001b[0;32m    229\u001b[0m memo[\u001b[39mid\u001b[39m(x)] \u001b[39m=\u001b[39m y\n\u001b[0;32m    230\u001b[0m \u001b[39mfor\u001b[39;00m key, value \u001b[39min\u001b[39;00m x\u001b[39m.\u001b[39mitems():\n\u001b[1;32m--> 231\u001b[0m     y[deepcopy(key, memo)] \u001b[39m=\u001b[39m deepcopy(value, memo)\n\u001b[0;32m    232\u001b[0m \u001b[39mreturn\u001b[39;00m y\n",
      "File \u001b[1;32mc:\\Users\\grfil\\AppData\\Local\\Programs\\Python\\Python311\\Lib\\copy.py:177\u001b[0m, in \u001b[0;36mdeepcopy\u001b[1;34m(x, memo, _nil)\u001b[0m\n\u001b[0;32m    175\u001b[0m \u001b[39mif\u001b[39;00m y \u001b[39mis\u001b[39;00m \u001b[39mnot\u001b[39;00m x:\n\u001b[0;32m    176\u001b[0m     memo[d] \u001b[39m=\u001b[39m y\n\u001b[1;32m--> 177\u001b[0m     _keep_alive(x, memo) \u001b[39m# Make sure x lives at least as long as d\u001b[39;00m\n\u001b[0;32m    178\u001b[0m \u001b[39mreturn\u001b[39;00m y\n",
      "File \u001b[1;32mc:\\Users\\grfil\\AppData\\Local\\Programs\\Python\\Python311\\Lib\\copy.py:254\u001b[0m, in \u001b[0;36m_keep_alive\u001b[1;34m(x, memo)\u001b[0m\n\u001b[0;32m    244\u001b[0m \u001b[39m\u001b[39m\u001b[39m\"\"\"Keeps a reference to the object x in the memo.\u001b[39;00m\n\u001b[0;32m    245\u001b[0m \n\u001b[0;32m    246\u001b[0m \u001b[39mBecause we remember objects by their id, we have\u001b[39;00m\n\u001b[1;32m   (...)\u001b[0m\n\u001b[0;32m    251\u001b[0m \u001b[39mthe memo itself...\u001b[39;00m\n\u001b[0;32m    252\u001b[0m \u001b[39m\"\"\"\u001b[39;00m\n\u001b[0;32m    253\u001b[0m \u001b[39mtry\u001b[39;00m:\n\u001b[1;32m--> 254\u001b[0m     memo[\u001b[39mid\u001b[39m(memo)]\u001b[39m.\u001b[39mappend(x)\n\u001b[0;32m    255\u001b[0m \u001b[39mexcept\u001b[39;00m \u001b[39mKeyError\u001b[39;00m:\n\u001b[0;32m    256\u001b[0m     \u001b[39m# aha, this is the first one :-)\u001b[39;00m\n\u001b[0;32m    257\u001b[0m     memo[\u001b[39mid\u001b[39m(memo)]\u001b[39m=\u001b[39m[x]\n",
      "\u001b[1;31mKeyboardInterrupt\u001b[0m: "
     ]
    }
   ],
   "source": [
    "for step in tqdm(range(int(TOT_N_OFFSPRINGS // λ)), desc=f\"Producing {TOT_N_OFFSPRINGS // λ} generations\"):\n",
    "    # Generate offsprings\n",
    "    offspring = list()\n",
    "    for counter in range(λ):\n",
    "        if random.random() < MUTATION_PROBABILITY:  # self-adapt mutation probability\n",
    "            # mutation  # add more clever mutations\n",
    "            p = select_parent(population)\n",
    "            o = mutate(p)\n",
    "        else:\n",
    "            # xover # add more xovers\n",
    "            p1 = select_parent(population)\n",
    "            p2 = select_parent(population)\n",
    "            o = one_cut_xover(p1, p2)\n",
    "        offspring.append(o)\n",
    "\n",
    "    for i in offspring:\n",
    "        i.fitness = fitness(i.genotype)\n",
    "\n",
    "    # Selection of survivals    \n",
    "    population.extend(offspring)\n",
    "    population.sort(key=lambda i: i.fitness, reverse=True)\n",
    "    population = population[:POPULATION_SIZE]\n",
    "\n",
    "    print(f\"best individual:{population[0].genotype}, fitness={population[0].fitness}\")\n",
    "    # print(f\"individuals:{population[:5]}\")"
   ]
  }
 ],
 "metadata": {
  "kernelspec": {
   "display_name": "Python 3",
   "language": "python",
   "name": "python3"
  },
  "language_info": {
   "codemirror_mode": {
    "name": "ipython",
    "version": 3
   },
   "file_extension": ".py",
   "mimetype": "text/x-python",
   "name": "python",
   "nbconvert_exporter": "python",
   "pygments_lexer": "ipython3",
   "version": "3.11.2"
  }
 },
 "nbformat": 4,
 "nbformat_minor": 2
}
