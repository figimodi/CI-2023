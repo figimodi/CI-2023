{
 "cells": [
  {
   "cell_type": "code",
   "execution_count": null,
   "metadata": {},
   "outputs": [],
   "source": [
    "from random import random, choice, randint\n",
    "from functools import reduce\n",
    "from collections import namedtuple\n",
    "from dataclasses import dataclass\n",
    "from copy import copy\n",
    "\n",
    "from pprint import pprint\n",
    "\n",
    "import numpy as np"
   ]
  },
  {
   "cell_type": "markdown",
   "metadata": {},
   "source": [
    "## The *Nim* and *Nimply* classes"
   ]
  },
  {
   "cell_type": "code",
   "execution_count": null,
   "metadata": {},
   "outputs": [],
   "source": [
    "Nimply = namedtuple(\"Nimply\", \"row, num_objects\")\n",
    "\n",
    "class Nim:\n",
    "    def __init__(self, num_rows: int, k: int = sys.maxsize) -> None:\n",
    "        self._rows = [i * 2 + 1 for i in range(num_rows)]\n",
    "        self._k = k\n",
    "\n",
    "    def __bool__(self):\n",
    "        return sum(self._rows) > 0\n",
    "\n",
    "    def __str__(self):\n",
    "        return \"<\" + \" \".join(str(_) for _ in self._rows) + \">\"\n",
    "\n",
    "    @property\n",
    "    def rows(self) -> tuple:\n",
    "        return tuple(self._rows)\n",
    "\n",
    "    def final_stage(self) -> bool:\n",
    "        return self._finalstage\n",
    "\n",
    "    def nimming(self, ply: Nimply) -> None:\n",
    "        row, num_objects = ply\n",
    "        assert self._rows[row] >= num_objects\n",
    "        assert num_objects <= self._k\n",
    "        self._rows[row] -= num_objects"
   ]
  },
  {
   "cell_type": "markdown",
   "metadata": {},
   "source": [
    "## Functions for optimal strageies"
   ]
  },
  {
   "cell_type": "code",
   "execution_count": null,
   "metadata": {},
   "outputs": [],
   "source": [
    "def nim_sum(state: Nim) -> int:\n",
    "    tmp = np.array([tuple(int(x) for x in f\"{c:032b}\") for c in state.rows])\n",
    "    xor = tmp.sum(axis=0) % 2\n",
    "    return int(\"\".join(str(_) for _ in xor), base=2)\n",
    "\n",
    "def advanced_nim_sum(state: Nim) -> int:\n",
    "    mex = [x % (state._k + 1) for x in state.rows]\n",
    "    #print(mex)\n",
    "    tmp = np.array([tuple(int(x) for x in f\"{c:032b}\") for c in mex])\n",
    "    xor = tmp.sum(axis=0) % 2\n",
    "    return int(\"\".join(str(_) for _ in xor), base=2)\n",
    "\n",
    "def analize(raw: Nim) -> dict:\n",
    "    cooked = dict()\n",
    "    cooked[\"possible_moves\"] = dict()\n",
    "    for ply in (Nimply(r, o) for r, c in enumerate(raw.rows) for o in range(1, c + 1)):\n",
    "        if raw._k < ply.num_objects:\n",
    "            continue\n",
    "        tmp = deepcopy(raw)\n",
    "        tmp.nimming(ply)\n",
    "        # cooked[\"possible_moves\"][ply] = nim_sum(tmp)\n",
    "        cooked[\"possible_moves\"][ply] = advanced_nim_sum(tmp)\n",
    "        \n",
    "    return cooked"
   ]
  },
  {
   "cell_type": "markdown",
   "metadata": {},
   "source": [
    "## Strategies"
   ]
  },
  {
   "cell_type": "code",
   "execution_count": null,
   "metadata": {},
   "outputs": [],
   "source": [
    "def pure_random(state: Nim) -> Nimply:\n",
    "    \"\"\"A completely random move\"\"\"\n",
    "    row = random.choice([r for r, c in enumerate(state.rows) if c > 0])\n",
    "    num_objects = random.randint(1, min(state._k, state._rows[row]))\n",
    "    return Nimply(row, num_objects)\n",
    "\n",
    "def gabriele(state: Nim) -> Nimply:\n",
    "    \"\"\"Pick always the maximum possible number of the lowest row\"\"\"\n",
    "    possible_moves = [(r, o) for r, c in enumerate(state.rows) for o in range(1, c + 1)]\n",
    "    return Nimply(*max(possible_moves, key=lambda m: (-m[0], m[1])))\n",
    "\n",
    "def optimal(state: Nim) -> Nimply:\n",
    "    analysis = analize(state)\n",
    "    spicy_moves = [ply for ply, ns in analysis[\"possible_moves\"].items() if ns == 0]\n",
    "    if not spicy_moves:\n",
    "        ply = pure_random(state)\n",
    "    else:\n",
    "        ply = random.choice(spicy_moves)\n",
    "        \n",
    "    return ply\n",
    "\n",
    "def agent(genotype) -> function:\n",
    "    def agent_style(state: Nim) -> Nimply:\n",
    "        probabilities = genotype[:N_STRATEGIES]\n",
    "        probabilities /= sum(probabilities)\n",
    "        chosen_strategy = np.random.choice(len(probabilities), num_samples, p=probabilities)\n",
    "        \n",
    "        ply = strategy_mapping[chosen_strategy]\n",
    "        return ply\n",
    "    return agent_style\n",
    "\n",
    "strategy_mapping = {\n",
    "    0: pure_random,\n",
    "    1: gabriele,\n",
    "    2: optimal,\n",
    "}"
   ]
  },
  {
   "cell_type": "markdown",
   "metadata": {},
   "source": [
    "## Evolutionary parameters"
   ]
  },
  {
   "cell_type": "code",
   "execution_count": null,
   "metadata": {},
   "outputs": [],
   "source": [
    "POPULATION_SIZE = 30\n",
    "TOURNAMENT_SIZE = 2\n",
    "MUTATION_PROBABILITY = .15\n",
    "N_STRATEGIES = 3\n",
    "TOT_N_OFFSPRINGS = 1e5\n",
    "λ = 20\n",
    "σ = 1\n",
    "τ = 1/np.sqrt(N_STRATEGIES)\n",
    "\n",
    "TRAINING_GAMES = 100\n",
    "ROWS = 5"
   ]
  },
  {
   "cell_type": "markdown",
   "metadata": {},
   "source": [
    "## Evolutionary methods"
   ]
  },
  {
   "cell_type": "code",
   "execution_count": null,
   "metadata": {},
   "outputs": [],
   "source": [
    "@dataclass\n",
    "class Individual:\n",
    "    fitness: float\n",
    "    genotype: list[float]\n",
    "\n",
    "def select_parent(pop) -> Individual:\n",
    "    pool = [choice(pop) for _ in range(TOURNAMENT_SIZE)]\n",
    "    champion = max(pool, key=lambda i: i.fitness)\n",
    "    return champion\n",
    "\n",
    "def mutate(ind: Individual) -> Individual:\n",
    "    # Mutate σ of the correspoding strategies\n",
    "    offspring[N_STRATEGIES:] = offspring[N_STRATEGIES:]*np.exp(τ*np.random.normal(loc=0, scale=1))\n",
    "\n",
    "    # Mutate the strategies \"probabilities\" with corresponding σ\n",
    "    offspring[:N_STRATEGIES] = (\n",
    "        np.random.normal(loc=offspring[:N_STRATEGIES], scale=offspring[N_STRATEGIES:].reshape(N_STRATEGIES, 1)) + ind\n",
    "    )\n",
    "    offspring.fitness = None\n",
    "    return offspring\n",
    "\n",
    "def one_cut_xover(ind1: Individual, ind2: Individual) -> Individual:\n",
    "    cut_point = randint(0, N_STRATEGIES-1)\n",
    "    offspring = Individual(fitness=None,\n",
    "                           genotype=ind1.genotype[:cut_point] + ind2.genotype[cut_point:N_STRATEGIES] + ind1.genotype[N_STRATEGIES:])\n",
    "    assert len(offspring.genotype) == N_STRATEGIES\n",
    "    return offspring\n",
    "\n",
    "def fitness(genotype) -> float:\n",
    "    # Make the individual play\n",
    "    wins = 0\n",
    "    for game in tqdm(range(TRAINING_GAMES)):\n",
    "        nim = Nim(ROWS)\n",
    "        player = np.random.choice([0, 1])\n",
    "        strategy_int = np.random.choice(np.array([i for i in range(N_STRATEGIES)]))\n",
    "        strategy = (agent(genotype), strategy_mapping[strategy_int])\n",
    "\n",
    "        while nim:\n",
    "            ply = strategy[player](nim)\n",
    "            #print(f\"ply: player {player} plays {ply}\")\n",
    "            nim.nimming(ply)\n",
    "            #print(f\"status: {nim}\")\n",
    "            player = 1 - player\n",
    "            \n",
    "        if player == 1:\n",
    "            wins += 1\n",
    "        \n",
    "    return wins/TRAINING_GAMES\n"
   ]
  },
  {
   "cell_type": "markdown",
   "metadata": {},
   "source": [
    "## Generating strating population"
   ]
  },
  {
   "cell_type": "code",
   "execution_count": null,
   "metadata": {},
   "outputs": [],
   "source": [
    "population = [\n",
    "    Individual(\n",
    "        # genotype=[choice((False, False)) for _ in range(NUM_SETS)],\n",
    "        fitness=None,\n",
    "    )\n",
    "    for _ in range(POPULATION_SIZE)\n",
    "]"
   ]
  },
  {
   "cell_type": "markdown",
   "metadata": {},
   "source": [
    "## Evolutionary algorithm"
   ]
  },
  {
   "cell_type": "code",
   "execution_count": null,
   "metadata": {},
   "outputs": [],
   "source": [
    "for step in tqdm(range(TOT_N_OFFSPRINGS // λ)):\n",
    "    # Generate offsprings\n",
    "    offspring = list()\n",
    "    for counter in range(λ):\n",
    "        if random() < MUTATION_PROBABILITY:  # self-adapt mutation probability\n",
    "            # mutation  # add more clever mutations\n",
    "            p = select_parent(population)\n",
    "            o = mutate(p)\n",
    "        else:\n",
    "            # xover # add more xovers\n",
    "            p1 = select_parent(population)\n",
    "            p2 = select_parent(population)\n",
    "            o = one_cut_xover(p1, p2)\n",
    "        offspring.append(o)\n",
    "\n",
    "    for i in offspring:\n",
    "        i.fitness = fitness(i.genotype)\n",
    "\n",
    "    # Selection of survivals    \n",
    "    population.extend(offspring)\n",
    "    population.sort(key=lambda i: i.fitness, reverse=True)\n",
    "    population = population[:POPULATION_SIZE]\n",
    "    \n",
    "    print(f\"individual:{population[0][:N_STRATEGIES]}, fitness={population[0].fitness}\")"
   ]
  }
 ],
 "metadata": {
  "language_info": {
   "name": "python"
  }
 },
 "nbformat": 4,
 "nbformat_minor": 2
}
