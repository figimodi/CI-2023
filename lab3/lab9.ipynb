{
 "cells": [
  {
   "cell_type": "markdown",
   "metadata": {},
   "source": [
    "Copyright **`(c)`** 2023 Giovanni Squillero `<giovanni.squillero@polito.it>`  \n",
    "[`https://github.com/squillero/computational-intelligence`](https://github.com/squillero/computational-intelligence)  \n",
    "Free for personal or classroom use; see [`LICENSE.md`](https://github.com/squillero/computational-intelligence/blob/master/LICENSE.md) for details.  "
   ]
  },
  {
   "cell_type": "markdown",
   "metadata": {},
   "source": [
    "# LAB9\n",
    "\n",
    "Write a local-search algorithm (eg. an EA) able to solve the *Problem* instances 1, 2, 5, and 10 on a 1000-loci genomes, using a minimum number of fitness calls. That's all.\n",
    "\n",
    "### Deadlines:\n",
    "\n",
    "* Submission: Sunday, December 3 ([CET](https://www.timeanddate.com/time/zones/cet))\n",
    "* Reviews: Sunday, December 10 ([CET](https://www.timeanddate.com/time/zones/cet))\n",
    "\n",
    "Notes:\n",
    "\n",
    "* Reviews will be assigned  on Monday, December 4\n",
    "* You need to commit in order to be selected as a reviewer (ie. better to commit an empty work than not to commit)"
   ]
  },
  {
   "cell_type": "code",
   "execution_count": 1,
   "metadata": {},
   "outputs": [],
   "source": [
    "import numpy as np\n",
    "import random as rnd\n",
    "import matplotlib.pyplot as plt\n",
    "import lab9_lib\n",
    "import sys\n",
    "\n",
    "from tqdm import tqdm\n",
    "from dataclasses import dataclass\n",
    "from copy import deepcopy\n",
    "from collections import deque"
   ]
  },
  {
   "cell_type": "markdown",
   "metadata": {},
   "source": [
    "## Numeric Values"
   ]
  },
  {
   "cell_type": "code",
   "execution_count": 13,
   "metadata": {},
   "outputs": [],
   "source": [
    "INSTANCES = [1, 2, 5, 10] \n",
    "LOCI_GENOMES = 1000 # the lenght of the genotype\n",
    "POPULATION_SIZE = 50 # the size of the entire population\n",
    "TOURNAMENT_SIZE = 20 # the amount of individuals the selection of the parents will me made on\n",
    "OFFSPRINGS = 30 # amount of offsprings per each generation\n",
    "MAX_GENERATIONS = 1000 # numebr of generations at most (unless we find an optimum before)\n",
    "# N_CUT_XOVER_PROB = .8\n",
    "MAX_CUT_POINTS = 30 # maximum number of cutting points in a xover (they're random)\n",
    "# MIN_CUT_POINTS = 2\n",
    "TABU_LENGHT = 8196*4 # ~4kb # tabu table size\n",
    "# MUTATION_PROBABILITY = .8\n",
    "XOVER_PROBABILITY = .5 # probability of chosing n_cut_xover rather than one_cut_xover\n",
    "# THRESHOLD_IMPROVEMENT = 1e-2\n",
    "# SCALING_FACTOR_PROB = .8\n",
    "ISLANDS = 5 # number of islands\n",
    "MIGRATION_RATE = 30 # after how many generations we have a migration\n",
    "MIGRANTS = 5 # number of migrants"
   ]
  },
  {
   "cell_type": "markdown",
   "metadata": {},
   "source": [
    "## Evolutionary Strategy Functions"
   ]
  },
  {
   "cell_type": "code",
   "execution_count": 14,
   "metadata": {},
   "outputs": [],
   "source": [
    "@dataclass\n",
    "class Individual:\n",
    "    genotype: list[bool]\n",
    "    fitness: float\n",
    "\n",
    "    def __str__(self):\n",
    "        return f\"{self.genotype}: {self.fitness:.2%}\"\n",
    "\n",
    "    def fitness(self) -> float:\n",
    "        return fitness\n",
    "\n",
    "def mutation(ind: Individual) -> None:\n",
    "    gene = rnd.choice([i for i in range(LOCI_GENOMES)])\n",
    "    ind.genotype[gene] = 1 - ind.genotype[gene] \n",
    "    ind.fitness = None\n",
    "\n",
    "\n",
    "def one_cut_xover(ind1: Individual, ind2: Individual) -> Individual:\n",
    "    cut_point = int(len(ind1.genotype) / 2)\n",
    "    offspring = Individual(genotype=np.concatenate((ind1.genotype[:cut_point], ind2.genotype[cut_point:]), axis=None), fitness=None)\n",
    "    return offspring\n",
    "\n",
    "def n_cut_xover(ind1: Individual, ind2: Individual, cuts: int) -> Individual:\n",
    "    cut_points = np.linspace(0, LOCI_GENOMES, cuts + 1, dtype=int)\n",
    "    inds = (ind1, ind2)\n",
    "    ind_turn = 0\n",
    "    prev_cut_point = 0\n",
    "    offspring = Individual(genotype=np.zeros(LOCI_GENOMES), fitness=None)\n",
    "\n",
    "    for cut in cut_points:\n",
    "        offspring.genotype[prev_cut_point:cut] = inds[ind_turn].genotype[prev_cut_point:cut]\n",
    "        prev_cut_point = cut\n",
    "        ind_turn = 1 - ind_turn\n",
    "\n",
    "    assert len(offspring.genotype) == LOCI_GENOMES\n",
    "\n",
    "    return offspring\n",
    "\n",
    "def select_parent(population: list) -> Individual:\n",
    "    pool = [rnd.choice(population) for _ in range(TOURNAMENT_SIZE)]\n",
    "    champion = max(pool, key=lambda i: i.fitness)\n",
    "    return champion"
   ]
  },
  {
   "cell_type": "markdown",
   "metadata": {},
   "source": [
    "## Tabu Table"
   ]
  },
  {
   "cell_type": "code",
   "execution_count": 15,
   "metadata": {},
   "outputs": [],
   "source": [
    "# Tabu table will remember if a recent state was already been anlized\n",
    "# When the table is full it removes the oldest state that was analized\n",
    "# The dimension of the table is a cruicial and though parameter to decide\n",
    "\n",
    "@dataclass\n",
    "class TabuCache:\n",
    "    table: deque\n",
    "\n",
    "    def __init__(self, size) -> None:\n",
    "        self.table = deque(maxlen=size)\n",
    "\n",
    "    def tabu_add(self, state: list) -> bool:\n",
    "        try:\n",
    "            hit = False\n",
    "            if self.table.index(state) >= 0:\n",
    "                self.table.remove(state)\n",
    "                hit = True\n",
    "        except ValueError:\n",
    "            pass\n",
    "        finally:\n",
    "            self.table.append(state)\n",
    "        \n",
    "        return hit\n",
    "\n",
    "    def get_table(self) -> deque:\n",
    "        return self.table\n"
   ]
  },
  {
   "cell_type": "markdown",
   "metadata": {},
   "source": [
    "## Population Generation"
   ]
  },
  {
   "cell_type": "code",
   "execution_count": 17,
   "metadata": {},
   "outputs": [],
   "source": [
    "def generate_population() -> (list, list):\n",
    "    fitness = list()\n",
    "    population = [\n",
    "            Individual(\n",
    "                genotype = rnd.choices([0, 1], k=LOCI_GENOMES),\n",
    "                fitness = None,\n",
    "            )\n",
    "            for _ in range(POPULATION_SIZE)\n",
    "        ]\n",
    "\n",
    "    for idx, inst in enumerate(INSTANCES):\n",
    "        fitness.append(lab9_lib.make_problem(inst))\n",
    "        \n",
    "        for i in population:\n",
    "            i.fitness = fitness[idx](i.genotype)\n",
    "            # i.fitness = fitness[idx].onemax(i.genotype) / LOCI_GENOMES\n",
    "\n",
    "    return population, fitness\n"
   ]
  },
  {
   "cell_type": "markdown",
   "metadata": {},
   "source": [
    "## Divide in Islands"
   ]
  },
  {
   "cell_type": "code",
   "execution_count": 18,
   "metadata": {},
   "outputs": [],
   "source": [
    "# We should divide the starting population into different islands\n",
    "# representing different isolated environments.\n",
    "# Migrations are allowd sporadically\n",
    "\n",
    "def generate_islands(population: list) -> list:\n",
    "    islands = list()\n",
    "    slice_points = np.linspace(0, POPULATION_SIZE, ISLANDS + 1, dtype=int)\n",
    "\n",
    "    for isl in range(ISLANDS):\n",
    "        islands.append(population[slice_points[isl]:slice_points[isl+1]])\n",
    "\n",
    "    return islands"
   ]
  },
  {
   "cell_type": "markdown",
   "metadata": {},
   "source": [
    "## Training"
   ]
  },
  {
   "cell_type": "code",
   "execution_count": 21,
   "metadata": {},
   "outputs": [
    {
     "name": "stdout",
     "output_type": "stream",
     "text": [
      "Solving for instance: 1\n"
     ]
    },
    {
     "name": "stderr",
     "output_type": "stream",
     "text": [
      " 37%|███▋      | 369/1000 [00:10<00:17, 35.94it/s]\n",
      "No artists with labels found to put in legend.  Note that artists whose label start with an underscore are ignored when legend() is called with no argument.\n"
     ]
    },
    {
     "name": "stdout",
     "output_type": "stream",
     "text": [
      "Reached fitness maximum before 1000 generations!\n",
      "Number of fitness calls for instance 1: 55550\n",
      "Solving for instance: 2\n"
     ]
    },
    {
     "name": "stderr",
     "output_type": "stream",
     "text": [
      " 50%|█████     | 501/1000 [00:13<00:13, 37.14it/s]\n"
     ]
    },
    {
     "ename": "KeyboardInterrupt",
     "evalue": "",
     "output_type": "error",
     "traceback": [
      "\u001b[1;31m---------------------------------------------------------------------------\u001b[0m",
      "\u001b[1;31mKeyboardInterrupt\u001b[0m                         Traceback (most recent call last)",
      "\u001b[1;32mc:\\Users\\grfil\\OneDrive\\Documenti\\PoliTo\\Computational Intelligence\\CI-2023\\lab3\\lab9.ipynb Cell 15\u001b[0m line \u001b[0;36m6\n\u001b[0;32m     <a href='vscode-notebook-cell:/c%3A/Users/grfil/OneDrive/Documenti/PoliTo/Computational%20Intelligence/CI-2023/lab3/lab9.ipynb#X20sZmlsZQ%3D%3D?line=53'>54</a>\u001b[0m \u001b[39m# if rnd.random() < xover_probability:\u001b[39;00m\n\u001b[0;32m     <a href='vscode-notebook-cell:/c%3A/Users/grfil/OneDrive/Documenti/PoliTo/Computational%20Intelligence/CI-2023/lab3/lab9.ipynb#X20sZmlsZQ%3D%3D?line=54'>55</a>\u001b[0m \u001b[39m#     o = n_cut_xover(p1, p2, rnd.choice([k for k in range(n_cut_points)]))\u001b[39;00m\n\u001b[0;32m     <a href='vscode-notebook-cell:/c%3A/Users/grfil/OneDrive/Documenti/PoliTo/Computational%20Intelligence/CI-2023/lab3/lab9.ipynb#X20sZmlsZQ%3D%3D?line=55'>56</a>\u001b[0m \u001b[39m#     if rnd.random() < mutation_probability:\u001b[39;00m\n\u001b[0;32m     <a href='vscode-notebook-cell:/c%3A/Users/grfil/OneDrive/Documenti/PoliTo/Computational%20Intelligence/CI-2023/lab3/lab9.ipynb#X20sZmlsZQ%3D%3D?line=56'>57</a>\u001b[0m \u001b[39m#         mutation(o)\u001b[39;00m\n\u001b[0;32m     <a href='vscode-notebook-cell:/c%3A/Users/grfil/OneDrive/Documenti/PoliTo/Computational%20Intelligence/CI-2023/lab3/lab9.ipynb#X20sZmlsZQ%3D%3D?line=57'>58</a>\u001b[0m \u001b[39m# else: \u001b[39;00m\n\u001b[0;32m     <a href='vscode-notebook-cell:/c%3A/Users/grfil/OneDrive/Documenti/PoliTo/Computational%20Intelligence/CI-2023/lab3/lab9.ipynb#X20sZmlsZQ%3D%3D?line=58'>59</a>\u001b[0m \u001b[39m#     mutation(o)\u001b[39;00m\n\u001b[0;32m     <a href='vscode-notebook-cell:/c%3A/Users/grfil/OneDrive/Documenti/PoliTo/Computational%20Intelligence/CI-2023/lab3/lab9.ipynb#X20sZmlsZQ%3D%3D?line=60'>61</a>\u001b[0m \u001b[39mif\u001b[39;00m rnd\u001b[39m.\u001b[39mrandom() \u001b[39m<\u001b[39m xover_probability:\n\u001b[1;32m---> <a href='vscode-notebook-cell:/c%3A/Users/grfil/OneDrive/Documenti/PoliTo/Computational%20Intelligence/CI-2023/lab3/lab9.ipynb#X20sZmlsZQ%3D%3D?line=61'>62</a>\u001b[0m     o \u001b[39m=\u001b[39m n_cut_xover(p1, p2, rnd\u001b[39m.\u001b[39;49mchoice([k \u001b[39mfor\u001b[39;49;00m k \u001b[39min\u001b[39;49;00m \u001b[39mrange\u001b[39;49m(MAX_CUT_POINTS)]))\n\u001b[0;32m     <a href='vscode-notebook-cell:/c%3A/Users/grfil/OneDrive/Documenti/PoliTo/Computational%20Intelligence/CI-2023/lab3/lab9.ipynb#X20sZmlsZQ%3D%3D?line=62'>63</a>\u001b[0m \u001b[39melse\u001b[39;00m: \n\u001b[0;32m     <a href='vscode-notebook-cell:/c%3A/Users/grfil/OneDrive/Documenti/PoliTo/Computational%20Intelligence/CI-2023/lab3/lab9.ipynb#X20sZmlsZQ%3D%3D?line=63'>64</a>\u001b[0m     o \u001b[39m=\u001b[39m one_cut_xover(p1, p2)\n",
      "\u001b[1;32mc:\\Users\\grfil\\OneDrive\\Documenti\\PoliTo\\Computational Intelligence\\CI-2023\\lab3\\lab9.ipynb Cell 15\u001b[0m line \u001b[0;36m3\n\u001b[0;32m     <a href='vscode-notebook-cell:/c%3A/Users/grfil/OneDrive/Documenti/PoliTo/Computational%20Intelligence/CI-2023/lab3/lab9.ipynb#X20sZmlsZQ%3D%3D?line=30'>31</a>\u001b[0m     offspring\u001b[39m.\u001b[39mgenotype[prev_cut_point:cut] \u001b[39m=\u001b[39m inds[ind_turn]\u001b[39m.\u001b[39mgenotype[prev_cut_point:cut]\n\u001b[0;32m     <a href='vscode-notebook-cell:/c%3A/Users/grfil/OneDrive/Documenti/PoliTo/Computational%20Intelligence/CI-2023/lab3/lab9.ipynb#X20sZmlsZQ%3D%3D?line=31'>32</a>\u001b[0m     prev_cut_point \u001b[39m=\u001b[39m cut\n\u001b[1;32m---> <a href='vscode-notebook-cell:/c%3A/Users/grfil/OneDrive/Documenti/PoliTo/Computational%20Intelligence/CI-2023/lab3/lab9.ipynb#X20sZmlsZQ%3D%3D?line=32'>33</a>\u001b[0m     ind_turn \u001b[39m=\u001b[39m \u001b[39m1\u001b[39m \u001b[39m-\u001b[39m ind_turn\n\u001b[0;32m     <a href='vscode-notebook-cell:/c%3A/Users/grfil/OneDrive/Documenti/PoliTo/Computational%20Intelligence/CI-2023/lab3/lab9.ipynb#X20sZmlsZQ%3D%3D?line=34'>35</a>\u001b[0m \u001b[39massert\u001b[39;00m \u001b[39mlen\u001b[39m(offspring\u001b[39m.\u001b[39mgenotype) \u001b[39m==\u001b[39m LOCI_GENOMES\n\u001b[0;32m     <a href='vscode-notebook-cell:/c%3A/Users/grfil/OneDrive/Documenti/PoliTo/Computational%20Intelligence/CI-2023/lab3/lab9.ipynb#X20sZmlsZQ%3D%3D?line=36'>37</a>\u001b[0m \u001b[39mreturn\u001b[39;00m offspring\n",
      "\u001b[1;31mKeyboardInterrupt\u001b[0m: "
     ]
    },
    {
     "data": {
      "image/png": "[encoded data removed]",
      "text/plain": [
       "<Figure size 640x480 with 1 Axes>"
      ]
     },
     "metadata": {},
     "output_type": "display_data"
    }
   ],
   "source": [
    "population = None\n",
    "islands = None\n",
    "fitness = None\n",
    "\n",
    "tabu = TabuCache(size=TABU_LENGHT)\n",
    "hit = True\n",
    "# prev_best_fitness = 0\n",
    "# delta_improv_fitness = sys.maxsize \n",
    "# mutation_probability = MUTATION_PROBABILITY\n",
    "xover_probability = XOVER_PROBABILITY\n",
    "# threshold_improvement = THRESHOLD_IMPROVEMENT\n",
    "# n_cut_points = MIN_CUT_POINTS\n",
    "\n",
    "# for the graphs\n",
    "x = np.linspace(0, MAX_GENERATIONS, MAX_GENERATIONS)\n",
    "y = [np.zeros(MAX_GENERATIONS) for _ in range(ISLANDS)]\n",
    "stop = MAX_GENERATIONS\n",
    "\n",
    "for idx, inst in enumerate(INSTANCES):\n",
    "    print(f\"Solving for instance: {inst}\")\n",
    "\n",
    "    # for plotting\n",
    "    stop = MAX_GENERATIONS\n",
    "\n",
    "    # generate population for new problem instances\n",
    "    population, fitness = generate_population()\n",
    "    islands = generate_islands(population)\n",
    "\n",
    "    for gen in tqdm(range(MAX_GENERATIONS)):\n",
    "        \n",
    "        # migrations\n",
    "        if gen != 0 and gen % MIGRATION_RATE == 0:\n",
    "            migrants = []\n",
    "            for isl in range(ISLANDS):\n",
    "                migrants.append(islands[isl][:MIGRANTS])\n",
    "\n",
    "            # circular migration\n",
    "            for isl in range(ISLANDS):\n",
    "                if isl == ISLANDS- 1:\n",
    "                    islands[0][:MIGRANTS] = migrants[isl]\n",
    "                else:\n",
    "                    islands[isl + 1][:MIGRANTS] = migrants[isl]\n",
    "        \n",
    "        for isl in range(ISLANDS):\n",
    "            offsprings = list()\n",
    "\n",
    "            for _ in range(OFFSPRINGS):\n",
    "                hit = True\n",
    "                while hit:\n",
    "                    p1 = select_parent(islands[isl])\n",
    "                    p2 = select_parent(islands[isl])\n",
    "                    o = deepcopy(p1)\n",
    "\n",
    "                    # if rnd.random() < xover_probability:\n",
    "                    #     o = n_cut_xover(p1, p2, rnd.choice([k for k in range(n_cut_points)]))\n",
    "                    #     if rnd.random() < mutation_probability:\n",
    "                    #         mutation(o)\n",
    "                    # else: \n",
    "                    #     mutation(o)\n",
    "\n",
    "                    if rnd.random() < xover_probability:\n",
    "                        o = n_cut_xover(p1, p2, rnd.choice([k for k in range(MAX_CUT_POINTS)]))\n",
    "                    else: \n",
    "                        o = one_cut_xover(p1, p2)\n",
    "\n",
    "                    mutation(o)\n",
    "                    \n",
    "                    hit = tabu.tabu_add(o)\n",
    "\n",
    "                offsprings.append(o)\n",
    "\n",
    "            for o in offsprings:\n",
    "                o.fitness = fitness[idx](o.genotype)\n",
    "                # o.fitness = fitness[idx].onemax(o.genotype) / LOCI_GENOMES\n",
    "\n",
    "            islands[isl].extend(offsprings)\n",
    "            islands[isl].sort(key=lambda i: i.fitness, reverse=True)\n",
    "            islands[isl] = islands[isl][:POPULATION_SIZE]\n",
    "\n",
    "            if islands[isl][0].fitness == 1:\n",
    "                stop = gen\n",
    "\n",
    "            # updating graph\n",
    "            y[isl][gen] = islands[isl][0].fitness\n",
    "\n",
    "            # print(f\"Best individual of the generation: {population[idx][0].fitness}\")\n",
    "\n",
    "            # delta = population[idx][0].fitness - prev_best_fitness\n",
    "            # prev_best_fitness = population[idx][0].fitness\n",
    "\n",
    "            # if threshold_improvement > 1/OFFSPRINGS and delta < threshold_improvement:\n",
    "            #     n_cut_points *= 2 \n",
    "            #     if n_cut_points > MAX_CUT_POINTS:\n",
    "            #         n_cut_points = MAX_CUT_POINTS\n",
    "            #     threshold_improvement *= .1\n",
    "            #     xover_probability *= SCALING_FACTOR_PROB\n",
    "            #     mutation_prbability = 1 - xover_probability\n",
    "\n",
    "        if stop != MAX_GENERATIONS:\n",
    "            print(f\"Reached fitness maximum before {MAX_GENERATIONS} generations!\")\n",
    "            break\n",
    "    \n",
    "    print(f\"Number of fitness calls for instance {inst}: {fitness[idx].calls}\")\n",
    "    plt.figure()\n",
    "    plt.grid()\n",
    "    plt.xlabel('generations')\n",
    "    plt.ylabel('fitness')\n",
    "    plt.xlim(-0.5, stop + 0.5)\n",
    "\n",
    "    for isl in range(ISLANDS):\n",
    "        plt.plot(x[:stop], y[isl][:stop], label=f\"island {isl}\")\n",
    "\n",
    "    plt.legend()\n",
    "    plt.savefig(f\"instance{inst}.png\")\n"
   ]
  }
 ],
 "metadata": {
  "kernelspec": {
   "display_name": "ci-fLJ3OwGs-py3.12",
   "language": "python",
   "name": "python3"
  },
  "language_info": {
   "codemirror_mode": {
    "name": "ipython",
    "version": 3
   },
   "file_extension": ".py",
   "mimetype": "text/x-python",
   "name": "python",
   "nbconvert_exporter": "python",
   "pygments_lexer": "ipython3",
   "version": "3.11.2"
  }
 },
 "nbformat": 4,
 "nbformat_minor": 2
}
