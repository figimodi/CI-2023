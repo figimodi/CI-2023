{
 "cells": [
  {
   "cell_type": "markdown",
   "metadata": {},
   "source": [
    "Copyright **`(c)`** 2023 Giovanni Squillero `<giovanni.squillero@polito.it>`  \n",
    "[`https://github.com/squillero/computational-intelligence`](https://github.com/squillero/computational-intelligence)  \n",
    "Free for personal or classroom use; see [`LICENSE.md`](https://github.com/squillero/computational-intelligence/blob/master/LICENSE.md) for details.  "
   ]
  },
  {
   "cell_type": "markdown",
   "metadata": {},
   "source": [
    "# LAB9\n",
    "\n",
    "Write a local-search algorithm (eg. an EA) able to solve the *Problem* instances 1, 2, 5, and 10 on a 1000-loci genomes, using a minimum number of fitness calls. That's all.\n",
    "\n",
    "### Deadlines:\n",
    "\n",
    "* Submission: Sunday, December 3 ([CET](https://www.timeanddate.com/time/zones/cet))\n",
    "* Reviews: Sunday, December 10 ([CET](https://www.timeanddate.com/time/zones/cet))\n",
    "\n",
    "Notes:\n",
    "\n",
    "* Reviews will be assigned  on Monday, December 4\n",
    "* You need to commit in order to be selected as a reviewer (ie. better to commit an empty work than not to commit)"
   ]
  },
  {
   "cell_type": "code",
   "execution_count": 277,
   "metadata": {},
   "outputs": [],
   "source": [
    "import numpy as np\n",
    "import random as rnd\n",
    "import lab9_lib\n",
    "import sys\n",
    "\n",
    "from tqdm import tqdm\n",
    "from dataclasses import dataclass\n",
    "from copy import deepcopy"
   ]
  },
  {
   "cell_type": "markdown",
   "metadata": {},
   "source": [
    "## Numeric Values"
   ]
  },
  {
   "cell_type": "code",
   "execution_count": 278,
   "metadata": {},
   "outputs": [],
   "source": [
    "PROBLEM_SIZE = 50\n",
    "POPULATION_SIZE = 30\n",
    "TOURNAMENT_SIZE = 5\n",
    "OFFSPRINGS = 20\n",
    "MAX_GENERATIONS = 100\n",
    "MUTATION_PROBABILITY = .3"
   ]
  },
  {
   "cell_type": "markdown",
   "metadata": {},
   "source": [
    "## Evolutionary Strategy Functions"
   ]
  },
  {
   "cell_type": "code",
   "execution_count": 279,
   "metadata": {},
   "outputs": [],
   "source": [
    "@dataclass\n",
    "class Individual:\n",
    "    genotype: list[bool]\n",
    "    fitness: float\n",
    "\n",
    "    def __str__(self):\n",
    "        return f\"{self.genotype}: {self.fitness:.2%}\"\n",
    "\n",
    "    def fitness(self) -> float:\n",
    "        return fitness\n",
    "\n",
    "def mutation(ind: Individual) -> None:\n",
    "    gene = rnd.choice([i for i in range(PROBLEM_SIZE)])\n",
    "    ind.genotype[gene] = 1 - ind.genotype[gene] \n",
    "    ind.fitness = None\n",
    "\n",
    "\n",
    "def one_cut_xover(ind1: Individual, ind2: Individual) -> Individual:\n",
    "    cut_point = int(len(ind1.genotype) / 2)\n",
    "    offspring = Individual(genotype=np.concatenate((ind1.genotype[:cut_point], ind2.genotype[cut_point:]), axis=None), fitness=None)\n",
    "    return offspring\n",
    "\n",
    "def select_parent(population: list) -> Individual:\n",
    "    pool = [rnd.choice(population) for _ in range(TOURNAMENT_SIZE)]\n",
    "    champion = max(pool, key=lambda i: i.fitness)\n",
    "    return champion"
   ]
  },
  {
   "cell_type": "markdown",
   "metadata": {},
   "source": [
    "## Population Generation"
   ]
  },
  {
   "cell_type": "code",
   "execution_count": 280,
   "metadata": {},
   "outputs": [],
   "source": [
    "fitness = lab9_lib.make_problem(PROBLEM_SIZE)\n",
    "\n",
    "population = [\n",
    "    Individual(\n",
    "        genotype = rnd.choices([0, 1], k=PROBLEM_SIZE),\n",
    "        fitness = None,\n",
    "    )\n",
    "    for _ in range(POPULATION_SIZE)\n",
    "]\n",
    "\n",
    "for i in population:\n",
    "    i.fitness = fitness(i.genotype)"
   ]
  },
  {
   "cell_type": "markdown",
   "metadata": {},
   "source": [
    "## Training"
   ]
  },
  {
   "cell_type": "code",
   "execution_count": 281,
   "metadata": {},
   "outputs": [
    {
     "name": "stderr",
     "output_type": "stream",
     "text": [
      " 47%|████▋     | 47/100 [00:00<00:00, 566.01it/s]"
     ]
    },
    {
     "name": "stdout",
     "output_type": "stream",
     "text": [
      "Reached fitness maximum before 100 generations!\n",
      "Number of fitness calls: 990 => fitness: 1.0\n"
     ]
    },
    {
     "name": "stderr",
     "output_type": "stream",
     "text": [
      "\n"
     ]
    }
   ],
   "source": [
    "for gen in tqdm(range(MAX_GENERATIONS)):\n",
    "    offsprings = list()\n",
    "    for _ in range(OFFSPRINGS):\n",
    "        p1 = select_parent(population)\n",
    "        p2 = select_parent(population)\n",
    "        o = one_cut_xover(p1, p2)\n",
    "\n",
    "        if rnd.random() < MUTATION_PROBABILITY:\n",
    "            mutation(o)\n",
    "        \n",
    "        offsprings.append(o)\n",
    "\n",
    "    for o in offsprings:\n",
    "        o.fitness = fitness(o.genotype)\n",
    "\n",
    "    population.extend(offsprings)\n",
    "    population.sort(key=lambda i: i.fitness, reverse=True)\n",
    "    population = population[:POPULATION_SIZE]\n",
    "\n",
    "    if population[0].fitness == 1:\n",
    "        print(f\"Reached fitness maximum before {MAX_GENERATIONS} generations!\")\n",
    "        break\n",
    "    # print(f\"Best individual of the generation: {population[0].fitness}\")\n",
    "\n",
    "\n",
    "print(f\"Number of fitness calls: {fitness.calls} => fitness: {population[0].fitness}\")"
   ]
  }
 ],
 "metadata": {
  "kernelspec": {
   "display_name": "ci-fLJ3OwGs-py3.12",
   "language": "python",
   "name": "python3"
  },
  "language_info": {
   "codemirror_mode": {
    "name": "ipython",
    "version": 3
   },
   "file_extension": ".py",
   "mimetype": "text/x-python",
   "name": "python",
   "nbconvert_exporter": "python",
   "pygments_lexer": "ipython3",
   "version": "3.11.2"
  }
 },
 "nbformat": 4,
 "nbformat_minor": 2
}
