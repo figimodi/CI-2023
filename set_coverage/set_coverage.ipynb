{
 "cells": [
  {
   "cell_type": "code",
   "execution_count": 1,
   "metadata": {},
   "outputs": [],
   "source": [
    "import numpy as np\n",
    "from random import random\n",
    "from functools import reduce\n",
    "from queue import PriorityQueue, LifoQueue\n",
    "from collections import namedtuple"
   ]
  },
  {
   "cell_type": "code",
   "execution_count": 2,
   "metadata": {},
   "outputs": [],
   "source": [
    "PROBLEM_SIZE = 10\n",
    "NUM_SETS = 10\n",
    "SETS = tuple(np.array([random() < .3 for _ in range(PROBLEM_SIZE)]) for _ in range(NUM_SETS))\n",
    "State = namedtuple('State', ['taken', 'notTaken'])"
   ]
  },
  {
   "cell_type": "code",
   "execution_count": 3,
   "metadata": {},
   "outputs": [],
   "source": [
    "def goal_check(state):\n",
    "    return np.all(reduce(np.logical_or, [SETS[i] for i in state.taken], np.array([False for _ in range(PROBLEM_SIZE)])))"
   ]
  },
  {
   "cell_type": "code",
   "execution_count": 6,
   "metadata": {},
   "outputs": [
    {
     "ename": "AttributeError",
     "evalue": "'LifoQueue' object has no attribute 'print'",
     "output_type": "error",
     "traceback": [
      "\u001b[1;31m---------------------------------------------------------------------------\u001b[0m",
      "\u001b[1;31mAttributeError\u001b[0m                            Traceback (most recent call last)",
      "Cell \u001b[1;32mIn[6], line 12\u001b[0m\n\u001b[0;32m     10\u001b[0m         new_state \u001b[38;5;241m=\u001b[39m State(current_state\u001b[38;5;241m.\u001b[39mtaken \u001b[38;5;241m^\u001b[39m {action}, current_state\u001b[38;5;241m.\u001b[39mnotTaken \u001b[38;5;241m^\u001b[39m {action})\n\u001b[0;32m     11\u001b[0m         frontier\u001b[38;5;241m.\u001b[39mput(new_state)\n\u001b[1;32m---> 12\u001b[0m     \u001b[43mfrontier\u001b[49m\u001b[38;5;241;43m.\u001b[39;49m\u001b[43mprint\u001b[49m()\n\u001b[0;32m     13\u001b[0m     current_state \u001b[38;5;241m=\u001b[39m frontier\u001b[38;5;241m.\u001b[39mget()\n\u001b[0;32m     15\u001b[0m goal_check(current_state)\n",
      "\u001b[1;31mAttributeError\u001b[0m: 'LifoQueue' object has no attribute 'print'"
     ]
    }
   ],
   "source": [
    "frontier = LifoQueue()\n",
    "frontier.put(State(set(), set(range(NUM_SETS))))\n",
    "\n",
    "counter = 0\n",
    "current_state = frontier.get()\n",
    "\n",
    "while not goal_check(current_state):\n",
    "    counter += 1\n",
    "    for action in current_state[1]:\n",
    "        new_state = State(current_state.taken ^ {action}, current_state.notTaken ^ {action})\n",
    "        frontier.put(new_state)\n",
    "    current_state = frontier.get()\n",
    "    print(current_state)\n",
    "\n",
    "goal_check(current_state)\n",
    "print(f'Solved in {counter:,} steps')"
   ]
  }
 ],
 "metadata": {
  "kernelspec": {
   "display_name": "set_coverage",
   "language": "python",
   "name": "python3"
  },
  "language_info": {
   "codemirror_mode": {
    "name": "ipython",
    "version": 3
   },
   "file_extension": ".py",
   "mimetype": "text/x-python",
   "name": "python",
   "nbconvert_exporter": "python",
   "pygments_lexer": "ipython3",
   "version": "3.11.2"
  }
 },
 "nbformat": 4,
 "nbformat_minor": 2
}
